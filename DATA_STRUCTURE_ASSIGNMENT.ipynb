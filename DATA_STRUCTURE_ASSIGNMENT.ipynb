{
  "nbformat": 4,
  "nbformat_minor": 0,
  "metadata": {
    "colab": {
      "provenance": []
    },
    "kernelspec": {
      "name": "python3",
      "display_name": "Python 3"
    },
    "language_info": {
      "name": "python"
    }
  },
  "cells": [
    {
      "cell_type": "markdown",
      "source": [
        "# **THEORY QUESTIONS **"
      ],
      "metadata": {
        "id": "6V_3M0vBG8j5"
      }
    },
    {
      "cell_type": "markdown",
      "source": [
        "Qn 1- What are data structures, and why are they important ?\n",
        "\n",
        "Ans-\n",
        "# Data Structures\n",
        "\n",
        " Data structures are specialized formats for organizing, storing, and accessing collections of data. They provide efficient ways to manage information based on its characteristics and intended use.\n",
        "\n",
        " # Importance of Data Structure\n",
        "Choosing the right data structure\n",
        "\n",
        "\n",
        "significantly impacts the efficiency and performance of your program.\n",
        "\n",
        "Well-chosen data structures can:\n",
        "Simplify data manipulation.\n",
        "\n",
        "Optimize searching and sorting operations\n",
        "\n",
        "Conserve memory usage"
      ],
      "metadata": {
        "id": "hL2AfFT3HTcQ"
      }
    },
    {
      "cell_type": "markdown",
      "source": [
        "Qn 2-  Explain the difference between mutable and immutable data types with examples?\n",
        "\n",
        "Ans -\n",
        "# difference between mutable and immutable data types\n",
        "\n",
        "Mutable data type can be modifed after creation (like - lits, sets).\n",
        "\n",
        "immutable data type cann't modified after creation(like tuples ).\n"
      ],
      "metadata": {
        "id": "c9i-_WiwKopK"
      }
    },
    {
      "cell_type": "code",
      "source": [
        "# example of mutable data type\n",
        "\n",
        "# cresting a list\n",
        "my_list = [1,2,3,4,]\n",
        "# trying to modify the list\n",
        "print('previous list',my_list)\n",
        "my_list.append(8)\n",
        "print('modified list',my_list)"
      ],
      "metadata": {
        "colab": {
          "base_uri": "https://localhost:8080/"
        },
        "id": "scPyFf5lNMXm",
        "outputId": "3db2dae6-bd95-4454-cb83-05dc78c24fe4"
      },
      "execution_count": null,
      "outputs": [
        {
          "output_type": "stream",
          "name": "stdout",
          "text": [
            "previous list [1, 2, 3, 4]\n",
            "modified list [1, 2, 3, 4, 8]\n"
          ]
        }
      ]
    },
    {
      "cell_type": "code",
      "source": [
        "# example of immutable data type\n",
        "\n",
        "# creating a tuple\n",
        "\n",
        "my_tuple = (1,2,3,4)\n",
        "type(my_tuple)\n",
        "\n",
        " # trying to modify tuple\n",
        "my_tuple[0] = 10\n",
        "\n",
        "# modifying a tuple will return an error"
      ],
      "metadata": {
        "colab": {
          "base_uri": "https://localhost:8080/",
          "height": 176
        },
        "id": "Q4_YQNs5OIhv",
        "outputId": "44333fbd-3c1a-4de1-98ae-c53e2724e32c"
      },
      "execution_count": null,
      "outputs": [
        {
          "output_type": "error",
          "ename": "TypeError",
          "evalue": "'tuple' object does not support item assignment",
          "traceback": [
            "\u001b[0;31m---------------------------------------------------------------------------\u001b[0m",
            "\u001b[0;31mTypeError\u001b[0m                                 Traceback (most recent call last)",
            "\u001b[0;32m<ipython-input-20-ab640d190a20>\u001b[0m in \u001b[0;36m<cell line: 0>\u001b[0;34m()\u001b[0m\n\u001b[1;32m      7\u001b[0m \u001b[0;34m\u001b[0m\u001b[0m\n\u001b[1;32m      8\u001b[0m  \u001b[0;31m# trying to modify tuple\u001b[0m\u001b[0;34m\u001b[0m\u001b[0;34m\u001b[0m\u001b[0m\n\u001b[0;32m----> 9\u001b[0;31m \u001b[0mmy_tuple\u001b[0m\u001b[0;34m[\u001b[0m\u001b[0;36m0\u001b[0m\u001b[0;34m]\u001b[0m \u001b[0;34m=\u001b[0m \u001b[0;36m10\u001b[0m\u001b[0;34m\u001b[0m\u001b[0;34m\u001b[0m\u001b[0m\n\u001b[0m",
            "\u001b[0;31mTypeError\u001b[0m: 'tuple' object does not support item assignment"
          ]
        }
      ]
    },
    {
      "cell_type": "markdown",
      "source": [
        "Qn 3- P What are the main differences between lists and tuples in Python?\n",
        "\n",
        "Ans - main differences between lists and tuples is that - lists are mutable and tuples are immutable."
      ],
      "metadata": {
        "id": "4W4jdMNkSnP-"
      }
    },
    {
      "cell_type": "markdown",
      "source": [
        "Qn 4- Describe how dictionaries store data.\n",
        "\n",
        "Ans- Data is Stored in a Dictionary as Key-Value Pairs.\n",
        "\n",
        "A dictionary consists of keys and values where each key maps to a specific value.\n",
        "\n"
      ],
      "metadata": {
        "id": "YMNC14O_TkHi"
      }
    },
    {
      "cell_type": "markdown",
      "source": [
        "Qn 5- Why might you use a set instead of a list in Python?\n",
        "\n",
        "Ans- use a set instead of a list in Python because of Uniqueness (Avoid Duplicates). Sets automatically remove duplicates, whereas lists allow them.\n"
      ],
      "metadata": {
        "id": "WysnQPumqjxV"
      }
    },
    {
      "cell_type": "markdown",
      "source": [
        "Qn 6-What is a string in Python, and how is it different from a list?\n",
        "\n",
        "Ans- A string in Python is an immutable sequence of characters, represented using single (') or double (\"), quotes It is used to store and manipulate text data.\n",
        "\n",
        "# Differences\n",
        "1. Strings are Immutable and Lists are Mutable.\n",
        "2. Lists Can Store Different Data Types but Strings Can't\n"
      ],
      "metadata": {
        "id": "uWUWI-yzrEz_"
      }
    },
    {
      "cell_type": "markdown",
      "source": [
        "Qn 7- How do tuples ensure data integrity in Python?\n",
        "\n",
        "Ans- Tuples in Python ensure data integrity primarily through immutability. Once a tuple is created, its elements cannot be modified, preventing accidental changes to critical data.\n",
        "\n"
      ],
      "metadata": {
        "id": "5Dy0n2o8nzzP"
      }
    },
    {
      "cell_type": "markdown",
      "source": [
        "Qn 8- What is a hash table, and how does it relate to dictionaries in Python?\n",
        "\n",
        "Ans- A hash table is a data structure that stores key-value pairs. It uses a hash function to compute an index (or hash) for each key, allowing for fast lookups, insertions, and deletions. The main advantage of a hash table is that it provides an average O(1) time complexity for these operations.\n",
        "\n",
        "# Relation of Hash Tables and Python Dictionaries -\n",
        "\n",
        "* Python dictionaries use a hash table internally, allowing O(1) average-time complexity for key-based operations.\n",
        "\n",
        "* Keys in a dictionary must be hashable (i.e., have a fixed hash value). Immutable types like strings, numbers, and tuples (with hashable elements) can be used as dictionary keys.\n",
        "\n",
        "* Python uses open addressing with probing (rather than chaining) to resolve collisions."
      ],
      "metadata": {
        "id": "daQoYOeLio_N"
      }
    },
    {
      "cell_type": "markdown",
      "source": [
        "Qn 9-  Can lists contain different data types in Python?\n",
        "\n",
        "Ans- Yes, In Python lists can contain elements of different data types."
      ],
      "metadata": {
        "id": "j0rI26Kmm47X"
      }
    },
    {
      "cell_type": "markdown",
      "source": [
        "Qn 10-  Explain why strings are immutable in Python.\n",
        "\n",
        "Ans- In Python, strings are immutable because once a string is created it cannot be changed. If you try to modify a string, Python creates a new string instead of modifying the existing one."
      ],
      "metadata": {
        "id": "19K4Vr5KoURV"
      }
    },
    {
      "cell_type": "markdown",
      "source": [
        "Qn 11- What advantages do dictionaries offer over lists for certain tasks?\n",
        "\n",
        "Ans-\n",
        "# Advantages of Dictionaries Over Lists in Python\n",
        "\n",
        "1-\n",
        "* Dictionaries: Use a hash table, enabling O(1) average-time complexity for lookups.\n",
        "\n",
        "* Lists: Require O(n) time in the worst case, since they perform a linear search.\n",
        "\n",
        "2-\n",
        "* Lists store elements sequentially but do not provide named keys.\n",
        "\n",
        "* Dictionaries provide key-value pairs, making data more descriptive.\n",
        "\n",
        "3-\n",
        "* In lists, you must remember index positions, which can be error-prone.\n",
        "\n",
        "* Dictionaries allow direct key-based access, removing the need for indexing.\n"
      ],
      "metadata": {
        "id": "ne5Ke4MipHCh"
      }
    },
    {
      "cell_type": "markdown",
      "source": [
        "Qn 12- Describe a scenario where using a tuple would be preferable over a list.\n",
        "\n",
        "Ans- A tuple is preferable over a list when you need fixed, immutable data that should not be accidentally modified.\n",
        "\n",
        "Scenario: Storing employee's Mobile number or email id -\n"
      ],
      "metadata": {
        "id": "PIzslKQ1quPf"
      }
    },
    {
      "cell_type": "code",
      "source": [
        "# exaple of answer 12\n",
        "\n",
        "Mo_no=(1234567890,) #mobile number and employee id should not be changed\n",
        "emp_id=(987654321,) # that's why tuple is preferable over list s\n",
        "\n",
        "print(\"mobile number-\", Mo_no)\n",
        "\n",
        "print(\"employee id-\", emp_id)"
      ],
      "metadata": {
        "colab": {
          "base_uri": "https://localhost:8080/"
        },
        "id": "aTlTbrvar5Bx",
        "outputId": "2757fc9f-174a-4ca4-c400-fc111d0795d1"
      },
      "execution_count": null,
      "outputs": [
        {
          "output_type": "stream",
          "name": "stdout",
          "text": [
            "mobile number- (1234567890,)\n",
            "employee id- (987654321,)\n"
          ]
        }
      ]
    },
    {
      "cell_type": "markdown",
      "source": [
        "Qn 13- How do sets handle duplicate values in Python?\n",
        "\n",
        "Ans- In Python, sets automatically eliminate duplicate values because they are unordered collections of unique elements. When you add duplicate values to a set, Python only keeps one instance of each unique element.\n"
      ],
      "metadata": {
        "id": "XVP53VB3v7JN"
      }
    },
    {
      "cell_type": "markdown",
      "source": [
        "Qn 14- How does the “in” keyword work differently for lists and dictionaries?\n",
        "\n",
        "Ans- The 'in' keyword is used to check membership in both lists and dictionaries, but it behaves differently for each due to their underlying implementations.\n",
        "\n",
        "*  When checking membership in a list, Python searches each element one by one.\n",
        "\n",
        "* For dictionaries, the 'in' keyword only checks for keys, not values.s"
      ],
      "metadata": {
        "id": "94r-lz2LwsVy"
      }
    },
    {
      "cell_type": "markdown",
      "source": [
        "Qn 15- Can you modify the elements of a tuple? Explain why or why not?\n",
        "\n",
        "Ans- No, you cannot modify the elements of a tuple in Python because tuples are immutable. Once a tuple is created, its elements cannot be changed, added, or removed because-\n",
        "\n",
        "* tuples are immutable, Python can optimize their memory storage.\n",
        "\n",
        " Immutable tuples can be used as keys in dictionaries or elements in sets."
      ],
      "metadata": {
        "id": "gIrEs8pYx8cU"
      }
    },
    {
      "cell_type": "markdown",
      "source": [
        "Qn 16- What is a nested dictionary, and give an example of its use case?\n",
        "\n",
        "Ans- A nested dictionary is a dictionary where values are also dictionaries. It allows you to store structured data in a key-value format."
      ],
      "metadata": {
        "id": "P2YRIkMWz12O"
      }
    },
    {
      "cell_type": "code",
      "source": [
        "# example of answer 16\n",
        "\n",
        "# use case - storing employee details\n",
        "\n",
        "employees_details = {\n",
        "    \"aman\": {\n",
        "        \"age\": 24,\n",
        "        \"post\": \"sales officer\",\n",
        "        \"emp_id\": 123456\n",
        "\n",
        "    },\n",
        "\n",
        "    \"sunil\": {\n",
        "        \"age\": 25,\n",
        "        \"post\": \"HR\",\n",
        "        \"emp_id\": 654321\n",
        "     }\n",
        "\n",
        "\n",
        "\n",
        "}\n",
        "\n",
        "print(employees_details)\n",
        "print(employees_details[\"aman\"])\n",
        "print(employees_details[\"aman\"][\"post\"])\n",
        "\n",
        "\n",
        "print(employees_details[\"sunil\"][\"post\"])"
      ],
      "metadata": {
        "colab": {
          "base_uri": "https://localhost:8080/"
        },
        "id": "EA1m6aDm0eXH",
        "outputId": "dffe43c9-49b8-49c4-8263-8ba2fe2511c5"
      },
      "execution_count": null,
      "outputs": [
        {
          "output_type": "stream",
          "name": "stdout",
          "text": [
            "{'aman': {'age': 24, 'post': 'sales officer', 'emp_id': 123456}, 'sunil': {'age': 25, 'post': 'HR', 'emp_id': 654321}}\n",
            "{'age': 24, 'post': 'sales officer', 'emp_id': 123456}\n",
            "sales officer\n",
            "HR\n"
          ]
        }
      ]
    },
    {
      "cell_type": "markdown",
      "source": [
        "Qn 17- Describe the time complexity of accessing elements in a dictionary.\n",
        "\n",
        "Ans- In Python, accessing elements in a dictionary is extremely fast because dictionaries use a hash table for lookups.\n",
        "\n",
        "* Python dictionaries use hashing to store keys.\n",
        "* When accessing an element, Python calculates the hash of the key and directly retrieves the value.\n",
        "* Time Complexity: O(1) on average."
      ],
      "metadata": {
        "id": "mBTT4c9V6Vsz"
      }
    },
    {
      "cell_type": "markdown",
      "source": [
        "Qn 18-  In what situations are lists preferred over dictionaries?\n",
        "\n",
        "Ans- While dictionaries are great for key-value lookups, lists are preferred in certain situations where order, indexing, and iteration are key factors.\n",
        "\n",
        "*  When Order Matters, Dictionaries  maintain order but lists are more natural for sequential data.\n",
        "\n",
        "* When You Need Index-Based Access Lists allow direct indexing instead of Dictionaries use keys."
      ],
      "metadata": {
        "id": "TtCaUqVq7eiu"
      }
    },
    {
      "cell_type": "markdown",
      "source": [
        "Qn 19- Why are dictionaries considered unordered, and how does that affect data retrieval?\n",
        "\n",
        "Ans- Before Python 3.7: Dictionaries were truly unordered the order of items could change unexpectedly.\n",
        "\n",
        "Python 3.7 and later: Insertion order is preserved, but dictionaries are still optimized for fast lookups, not sequential access.\n",
        "\n",
        "* Lookup is Based on Keys, Not Order\n",
        "* No Direct Index-Based Access\n",
        "\n",
        "\n"
      ],
      "metadata": {
        "id": "VNNAufBR8thv"
      }
    },
    {
      "cell_type": "markdown",
      "source": [
        "Qn 20- Explain the difference between a list and a dictionary in terms of data retrieval.\n",
        "\n",
        "Ans-\n",
        "# the difference between a list and a dictionary in terms of data retrieval\n",
        "\n",
        "# Lists-\n",
        "\n",
        "* Stored as an ordered sequence\n",
        "* Accessed by index (position-based)\n",
        "* when Accessing an Element O(1) (if using an index)\n",
        "* when Searching for an Item O(n) (linear search)\n",
        "\n",
        "# Dictionary\n",
        "\n",
        "* Stored as key-value pairs in a hash table\n",
        "\n",
        "* Accessed by key (hash-based lookup)\n",
        "\n",
        "* when Accessing an Element O(1) (average case)\n",
        "* when Searching for an Item O(1) (hash lookup)\n"
      ],
      "metadata": {
        "id": "74gdSY_P-0os"
      }
    },
    {
      "cell_type": "markdown",
      "source": [
        "## Practical Questions"
      ],
      "metadata": {
        "id": "9TeZZtuqvtmg"
      }
    },
    {
      "cell_type": "markdown",
      "source": [
        "Qn 1- Write a code to create a string with your name and print it."
      ],
      "metadata": {
        "id": "T8GjqLsTwOUa"
      }
    },
    {
      "cell_type": "code",
      "source": [
        "# Answer\n",
        "\n",
        "my_name =\"Aman Mishra\"\n",
        "\n",
        "print(my_name)\n"
      ],
      "metadata": {
        "colab": {
          "base_uri": "https://localhost:8080/"
        },
        "id": "r4W2zsIIwX3u",
        "outputId": "21091a6e-1b53-495c-c908-63ed808fec9c"
      },
      "execution_count": null,
      "outputs": [
        {
          "output_type": "stream",
          "name": "stdout",
          "text": [
            "Aman Mishra\n"
          ]
        }
      ]
    },
    {
      "cell_type": "markdown",
      "source": [
        "Qn 2- Write a code to find the length of the string \"Hello World\"?"
      ],
      "metadata": {
        "id": "rla04AFEw2At"
      }
    },
    {
      "cell_type": "code",
      "source": [
        "# Answer\n",
        "\n",
        "string = \"Hello World\"\n",
        "length = len(string)\n",
        "print(\"Length of the string-\", length)"
      ],
      "metadata": {
        "colab": {
          "base_uri": "https://localhost:8080/"
        },
        "id": "13A5jcAExHVE",
        "outputId": "ce151720-e858-4520-f98e-e620ebbb1103"
      },
      "execution_count": null,
      "outputs": [
        {
          "output_type": "stream",
          "name": "stdout",
          "text": [
            "Length of the string- 11\n"
          ]
        }
      ]
    },
    {
      "cell_type": "markdown",
      "source": [
        "Qn 3- Write a code to slice the first 3 characters from the string \"Python Programming\"."
      ],
      "metadata": {
        "id": "HggQvjIlyQtP"
      }
    },
    {
      "cell_type": "code",
      "source": [
        "# Answer\n",
        "\n",
        "string = \"Python Programming\"\n",
        "sliced = string[:3]\n",
        "print(\"Sliced String-\", sliced)"
      ],
      "metadata": {
        "colab": {
          "base_uri": "https://localhost:8080/"
        },
        "id": "LradtBU3yZEr",
        "outputId": "5d250152-3913-4262-d550-a41d016e8966"
      },
      "execution_count": null,
      "outputs": [
        {
          "output_type": "stream",
          "name": "stdout",
          "text": [
            "Sliced String- Pyt\n"
          ]
        }
      ]
    },
    {
      "cell_type": "markdown",
      "source": [
        "Qn 4- Write a code to convert the string \"hello\" to uppercase."
      ],
      "metadata": {
        "id": "q1DQbQhcysXX"
      }
    },
    {
      "cell_type": "code",
      "source": [
        "# Answer\n",
        "\n",
        "string = \"hello\"\n",
        "uppercase = string.upper()\n",
        "print(\"Uppercase:\", uppercase)"
      ],
      "metadata": {
        "colab": {
          "base_uri": "https://localhost:8080/"
        },
        "id": "Saab6kElyyTi",
        "outputId": "00572097-9f2c-4e22-c2d5-2cdc967d53ab"
      },
      "execution_count": null,
      "outputs": [
        {
          "output_type": "stream",
          "name": "stdout",
          "text": [
            "Uppercase: HELLO\n"
          ]
        }
      ]
    },
    {
      "cell_type": "markdown",
      "source": [
        "Qn 5- Write a code to replace the word \"apple\" with \"orange\" in the string \"I like apple\"."
      ],
      "metadata": {
        "id": "pMKMqT26zQvw"
      }
    },
    {
      "cell_type": "code",
      "source": [
        "# Answer\n",
        "\n",
        "string = \"I like apple\"\n",
        "new_string = string.replace(\"apple\", \"orange\")\n",
        "print(\"Updated String:\", new_string)"
      ],
      "metadata": {
        "colab": {
          "base_uri": "https://localhost:8080/"
        },
        "id": "5B0Xp87nzWwM",
        "outputId": "78b2f7c2-9c04-43cc-bedf-7eca7f27a683"
      },
      "execution_count": null,
      "outputs": [
        {
          "output_type": "stream",
          "name": "stdout",
          "text": [
            "Updated String: I like orange\n"
          ]
        }
      ]
    },
    {
      "cell_type": "markdown",
      "source": [
        "Qn 6- Write a code to create a list with numbers 1 to 5 and print it.\n"
      ],
      "metadata": {
        "id": "4dBtnzaYzpJ-"
      }
    },
    {
      "cell_type": "code",
      "source": [
        "# Answer\n",
        "\n",
        "numbers = [1, 2, 3, 4, 5]  # Creating a list with numbers 1 to 5\n",
        "print(\"List:\", numbers)"
      ],
      "metadata": {
        "colab": {
          "base_uri": "https://localhost:8080/"
        },
        "id": "ynBWb8mmzx6u",
        "outputId": "11edb061-2a22-47d1-c424-3f9e7296a6db"
      },
      "execution_count": null,
      "outputs": [
        {
          "output_type": "stream",
          "name": "stdout",
          "text": [
            "List: [1, 2, 3, 4, 5]\n"
          ]
        }
      ]
    },
    {
      "cell_type": "markdown",
      "source": [
        "Qn 7- P Write a code to append the number 10 to the list [1, 2, 3, 4].\n"
      ],
      "metadata": {
        "id": "1CrG7Wynz5sJ"
      }
    },
    {
      "cell_type": "code",
      "source": [
        "# Answer\n",
        "\n",
        "list = [1, 2, 3, 4]\n",
        "list.append(10)\n",
        "print(\"Updated List:\", list)"
      ],
      "metadata": {
        "colab": {
          "base_uri": "https://localhost:8080/"
        },
        "id": "ly1Y8zh30AmM",
        "outputId": "0c32c253-4d97-4cc6-f2ba-c3b05627b52d"
      },
      "execution_count": null,
      "outputs": [
        {
          "output_type": "stream",
          "name": "stdout",
          "text": [
            "Updated List: [1, 2, 3, 4, 10]\n"
          ]
        }
      ]
    },
    {
      "cell_type": "markdown",
      "source": [
        "Qn 8- Write a code to remove the number 3 from the list [1, 2, 3, 4, 5].\n"
      ],
      "metadata": {
        "id": "VXI-i3DZ0OFN"
      }
    },
    {
      "cell_type": "code",
      "source": [
        "list = [1, 2, 3, 4, 5]\n",
        "list.remove(3)\n",
        "print(\"Updated List:\", list)"
      ],
      "metadata": {
        "colab": {
          "base_uri": "https://localhost:8080/"
        },
        "id": "DAwVEs4D0URn",
        "outputId": "f710807a-f51d-4639-8a81-6dc102625872"
      },
      "execution_count": null,
      "outputs": [
        {
          "output_type": "stream",
          "name": "stdout",
          "text": [
            "Updated List: [1, 2, 4, 5]\n"
          ]
        }
      ]
    },
    {
      "cell_type": "markdown",
      "source": [
        "Qn 9- Write a code to access the second element in the list ['a', 'b', 'c', 'd'].\n"
      ],
      "metadata": {
        "id": "gFu1j2Pn0f1H"
      }
    },
    {
      "cell_type": "code",
      "source": [
        "# Answer\n",
        "\n",
        "list = ['a', 'b', 'c', 'd']\n",
        "list[1]"
      ],
      "metadata": {
        "colab": {
          "base_uri": "https://localhost:8080/",
          "height": 35
        },
        "id": "Daqwh5PF0lrB",
        "outputId": "8e31ccb6-c21e-4f78-943a-d8883aa14541"
      },
      "execution_count": null,
      "outputs": [
        {
          "output_type": "execute_result",
          "data": {
            "text/plain": [
              "'b'"
            ],
            "application/vnd.google.colaboratory.intrinsic+json": {
              "type": "string"
            }
          },
          "metadata": {},
          "execution_count": 19
        }
      ]
    },
    {
      "cell_type": "markdown",
      "source": [
        "Qn 10- Write a code to reverse the list [10, 20, 30, 40, 50]."
      ],
      "metadata": {
        "id": "0XV61vJV1R7n"
      }
    },
    {
      "cell_type": "code",
      "source": [
        "# Answer\n",
        "\n",
        "list = [10, 20, 30, 40, 50]\n",
        "list.reverse()\n",
        "print(\"Reversed List:\", list)"
      ],
      "metadata": {
        "colab": {
          "base_uri": "https://localhost:8080/"
        },
        "id": "Mz_x6Wtb1eWN",
        "outputId": "4eb605bb-ac43-40b2-e4bf-77cb89aa80fb"
      },
      "execution_count": null,
      "outputs": [
        {
          "output_type": "stream",
          "name": "stdout",
          "text": [
            "Reversed List: [50, 40, 30, 20, 10]\n"
          ]
        }
      ]
    },
    {
      "cell_type": "markdown",
      "source": [
        "Qn 11- Write a code to create a tuple with the elements 100, 200, 300 and print it.\n"
      ],
      "metadata": {
        "id": "bf4siN6L2cbC"
      }
    },
    {
      "cell_type": "code",
      "source": [
        "# Answer\n",
        "\n",
        "tuple = (100, 200, 300)\n",
        "print(\"Tuple:\", tuple)\n",
        "\n",
        "type(tuple)"
      ],
      "metadata": {
        "colab": {
          "base_uri": "https://localhost:8080/"
        },
        "id": "KONIAux42jYZ",
        "outputId": "8db7fea7-3c3f-4be8-9f7b-d6fd52e1b487"
      },
      "execution_count": null,
      "outputs": [
        {
          "output_type": "stream",
          "name": "stdout",
          "text": [
            "Tuple: (100, 200, 300)\n"
          ]
        },
        {
          "output_type": "execute_result",
          "data": {
            "text/plain": [
              "tuple"
            ]
          },
          "metadata": {},
          "execution_count": 29
        }
      ]
    },
    {
      "cell_type": "markdown",
      "source": [
        "Qn 12- Write a code to access the second-to-last element of the tuple ('red', 'green', 'blue', 'yellow').\n"
      ],
      "metadata": {
        "id": "5oDk4mse23Pj"
      }
    },
    {
      "cell_type": "code",
      "source": [
        "# Answer\n",
        "\n",
        "tuple = ('red', 'green', 'blue', 'yellow')\n",
        "tuple[-2]\n",
        "\n"
      ],
      "metadata": {
        "colab": {
          "base_uri": "https://localhost:8080/",
          "height": 35
        },
        "id": "aBfw8jRj3BPF",
        "outputId": "4aec42fe-8646-484e-b244-f2c8e700676f"
      },
      "execution_count": null,
      "outputs": [
        {
          "output_type": "execute_result",
          "data": {
            "text/plain": [
              "'blue'"
            ],
            "application/vnd.google.colaboratory.intrinsic+json": {
              "type": "string"
            }
          },
          "metadata": {},
          "execution_count": 30
        }
      ]
    },
    {
      "cell_type": "markdown",
      "source": [
        "Qn 13- Write a code to find the minimum number in the tuple (10, 20, 5, 15).\n"
      ],
      "metadata": {
        "id": "UFWuUzcd3SGU"
      }
    },
    {
      "cell_type": "code",
      "source": [
        "# Answer\n",
        "\n",
        "tuple = (10, 20, 5, 15)\n",
        "minimum_number  = min(tuple)\n",
        "print(\"Minimum Number:\", minimum_number)"
      ],
      "metadata": {
        "colab": {
          "base_uri": "https://localhost:8080/"
        },
        "id": "Pr5hB6a-3X85",
        "outputId": "fbe5d6c8-4ca1-4176-e4e7-fb68e0d5a5d6"
      },
      "execution_count": null,
      "outputs": [
        {
          "output_type": "stream",
          "name": "stdout",
          "text": [
            "Minimum Number: 5\n"
          ]
        }
      ]
    },
    {
      "cell_type": "markdown",
      "source": [
        "Qn 14-  Write a code to find the index of the element \"cat\" in the tuple ('dog', 'cat', 'rabbit')"
      ],
      "metadata": {
        "id": "4Pjwagb03svH"
      }
    },
    {
      "cell_type": "code",
      "source": [
        "animals = ('dog', 'cat', 'rabbit')\n",
        "index = animals.index('cat')  # Finds the index of \"cat\"\n",
        "print(\"Index of 'cat':\", index)\n"
      ],
      "metadata": {
        "colab": {
          "base_uri": "https://localhost:8080/"
        },
        "id": "rdneX19o5kV_",
        "outputId": "7448034f-255f-4116-dde0-c61e938c3db1"
      },
      "execution_count": null,
      "outputs": [
        {
          "output_type": "stream",
          "name": "stdout",
          "text": [
            "Index of 'cat': 1\n"
          ]
        }
      ]
    },
    {
      "cell_type": "markdown",
      "source": [
        " Qn 15- Write a code to create a tuple containing three different fruits and check if \"kiwi\" is in it."
      ],
      "metadata": {
        "id": "Wx110iU86Z_i"
      }
    },
    {
      "cell_type": "code",
      "source": [
        "# Answer\n",
        "\n",
        "fruits = ('apple', 'banana', 'orange')\n",
        "if 'kiwi' in fruits:\n",
        "    print(\"'kiwi' is in the tuple.\")\n",
        "else:\n",
        "    print(\"'kiwi' is not in the tuple.\")"
      ],
      "metadata": {
        "colab": {
          "base_uri": "https://localhost:8080/"
        },
        "id": "UvzOCS3p6frP",
        "outputId": "6be398fc-8a48-4bfb-c84e-1f64fde7957f"
      },
      "execution_count": null,
      "outputs": [
        {
          "output_type": "stream",
          "name": "stdout",
          "text": [
            "'kiwi' is not in the tuple.\n"
          ]
        }
      ]
    },
    {
      "cell_type": "markdown",
      "source": [
        "Qn 16- Write a code to create a set with the elements 'a', 'b', 'c' and print it."
      ],
      "metadata": {
        "id": "_jsAuvvnbJAR"
      }
    },
    {
      "cell_type": "code",
      "source": [
        "# Answer\n",
        "\n",
        "my_set = {'a', 'b', 'c'}\n",
        "print(\"Set:\", my_set)"
      ],
      "metadata": {
        "colab": {
          "base_uri": "https://localhost:8080/"
        },
        "id": "rwMIqAWWdBa0",
        "outputId": "dcb35bac-7c8c-402c-fc04-72f09f92c302"
      },
      "execution_count": 2,
      "outputs": [
        {
          "output_type": "stream",
          "name": "stdout",
          "text": [
            "Set: {'b', 'a', 'c'}\n"
          ]
        }
      ]
    },
    {
      "cell_type": "markdown",
      "source": [
        "Qn 17- Write a code to clear all elements from the set {1, 2, 3, 4, 5}.\n"
      ],
      "metadata": {
        "id": "7rnLJemBedgm"
      }
    },
    {
      "cell_type": "code",
      "source": [
        "# Answer\n",
        "\n",
        "my_set = {1, 2, 3, 4, 5}\n",
        "my_set.clear()\n",
        "print(\"Cleared Set:\", my_set)"
      ],
      "metadata": {
        "colab": {
          "base_uri": "https://localhost:8080/"
        },
        "id": "wb9NX7s7eoet",
        "outputId": "828f1e06-4d9c-496b-df38-4fc0467038b7"
      },
      "execution_count": 3,
      "outputs": [
        {
          "output_type": "stream",
          "name": "stdout",
          "text": [
            "Cleared Set: set()\n"
          ]
        }
      ]
    },
    {
      "cell_type": "markdown",
      "source": [
        "Qn 18- . Write a code to remove the element 4 from the set {1, 2, 3, 4}."
      ],
      "metadata": {
        "id": "pNOceLb6fK1T"
      }
    },
    {
      "cell_type": "code",
      "source": [
        "# Answer\n",
        "\n",
        "my_set = {1, 2, 3, 4}\n",
        "my_set.remove(4)\n",
        "print(\"Updated Set:\", my_set)"
      ],
      "metadata": {
        "colab": {
          "base_uri": "https://localhost:8080/"
        },
        "id": "B_fFACAnfY60",
        "outputId": "6365f8c8-8764-4a21-a153-b37f9f9cc741"
      },
      "execution_count": 4,
      "outputs": [
        {
          "output_type": "stream",
          "name": "stdout",
          "text": [
            "Updated Set: {1, 2, 3}\n"
          ]
        }
      ]
    },
    {
      "cell_type": "markdown",
      "source": [
        "Qn 19-  Write a code to find the union of two sets {1, 2, 3} and {3, 4, 5}."
      ],
      "metadata": {
        "id": "l4u16mvDgiYy"
      }
    },
    {
      "cell_type": "code",
      "source": [
        "# Answer\n",
        "\n",
        "set1 = {1, 2, 3}\n",
        "set2 = {3, 4, 5}\n",
        "\n",
        "union_set = set1.union(set2)\n",
        "print(\"Union of sets:\", union_set)"
      ],
      "metadata": {
        "colab": {
          "base_uri": "https://localhost:8080/"
        },
        "id": "HGiDGCgThKSb",
        "outputId": "157022cd-c257-444e-8c82-f3f72c2091a1"
      },
      "execution_count": 5,
      "outputs": [
        {
          "output_type": "stream",
          "name": "stdout",
          "text": [
            "Union of sets: {1, 2, 3, 4, 5}\n"
          ]
        }
      ]
    },
    {
      "cell_type": "markdown",
      "source": [
        "Qn 20-  Write a code to find the intersection of two sets {1, 2, 3} and {2, 3, 4}."
      ],
      "metadata": {
        "id": "xZmUrbhDhfjP"
      }
    },
    {
      "cell_type": "code",
      "source": [
        "# Answer\n",
        "\n",
        "set1 = {1, 2, 3}\n",
        "set2 = {2, 3, 4}\n",
        "\n",
        "intersection_set = set1.intersection(set2)\n",
        "print(\"Intersection of sets:\", intersection_set)"
      ],
      "metadata": {
        "colab": {
          "base_uri": "https://localhost:8080/"
        },
        "id": "4QcXT0yIitIp",
        "outputId": "9e3f2f39-57cf-404c-aa8e-f356bf994b42"
      },
      "execution_count": 8,
      "outputs": [
        {
          "output_type": "stream",
          "name": "stdout",
          "text": [
            "Intersection of sets: {2, 3}\n"
          ]
        }
      ]
    },
    {
      "cell_type": "markdown",
      "source": [
        "Qn 21-  Write a code to create a dictionary with the keys \"name\", \"age\", and \"city\", and print it.\n"
      ],
      "metadata": {
        "id": "bm6Y5FUAmpOS"
      }
    },
    {
      "cell_type": "code",
      "source": [
        "# Answer\n",
        "\n",
        "dict = {\n",
        "    \"name\": \"Aman\",\n",
        "    \"age\": 24,\n",
        "    \"city\": \"Bareilly\"\n",
        "}\n",
        "\n",
        "print(\"Dictionary-\", dict)"
      ],
      "metadata": {
        "colab": {
          "base_uri": "https://localhost:8080/"
        },
        "id": "kvr6nE-cmt7B",
        "outputId": "1cdcb0b1-00fc-4624-e7b2-f9987e2bb882"
      },
      "execution_count": 11,
      "outputs": [
        {
          "output_type": "stream",
          "name": "stdout",
          "text": [
            "Dictionary- {'name': 'Aman', 'age': 24, 'city': 'Bareilly'}\n"
          ]
        }
      ]
    },
    {
      "cell_type": "markdown",
      "source": [
        "Qn 22-  Write a code to add a new key-value pair \"country\": \"USA\" to the dictionary {'name': 'John', 'age': 25}"
      ],
      "metadata": {
        "id": "xuwFTxgAnu6Y"
      }
    },
    {
      "cell_type": "code",
      "source": [
        "# Answer\n",
        "\n",
        "person = {'name': 'John', 'age': 25}\n",
        "person['country'] = 'USA'\n",
        "\n",
        "print(\"Updated Dictionary:\", person)"
      ],
      "metadata": {
        "colab": {
          "base_uri": "https://localhost:8080/"
        },
        "id": "Yn8sBm3Yn_7Y",
        "outputId": "84a8ae7f-b855-4192-932e-432d1cc47678"
      },
      "execution_count": 12,
      "outputs": [
        {
          "output_type": "stream",
          "name": "stdout",
          "text": [
            "Updated Dictionary: {'name': 'John', 'age': 25, 'country': 'USA'}\n"
          ]
        }
      ]
    },
    {
      "cell_type": "markdown",
      "source": [
        "Qn 23- Write a code to access the value associated with the key \"name\" in the dictionary {'name': 'Alice', 'age': 30}.\n"
      ],
      "metadata": {
        "id": "iemBmmQ4oxq5"
      }
    },
    {
      "cell_type": "code",
      "source": [
        "# Answer\n",
        "\n",
        "person = {'name': 'Alice', 'age': 30}\n",
        "name_value = person['name']\n",
        "\n",
        "print(\"Value of 'name':\", name_value)"
      ],
      "metadata": {
        "colab": {
          "base_uri": "https://localhost:8080/"
        },
        "id": "WmkMSR9To26T",
        "outputId": "e1f05923-157b-4158-b808-240bec93f5cf"
      },
      "execution_count": 13,
      "outputs": [
        {
          "output_type": "stream",
          "name": "stdout",
          "text": [
            "Value of 'name': Alice\n"
          ]
        }
      ]
    },
    {
      "cell_type": "markdown",
      "source": [
        "Qn 24-  Write a code to remove the key \"age\" from the dictionary {'name': 'Bob', 'age': 22, 'city': 'New York'}."
      ],
      "metadata": {
        "id": "g7Ocv182pUN4"
      }
    },
    {
      "cell_type": "code",
      "source": [
        "# Answer\n",
        "\n",
        "person = {'name': 'Bob', 'age': 22, 'city': 'New York'}\n",
        "del person['age']  # Removing the key\n",
        "\n",
        "print(\"Updated Dictionary:\", person)"
      ],
      "metadata": {
        "colab": {
          "base_uri": "https://localhost:8080/"
        },
        "id": "f0tzQd3tpbSA",
        "outputId": "3771f813-85f0-4cb8-ff59-a7cfe2fee2f3"
      },
      "execution_count": 14,
      "outputs": [
        {
          "output_type": "stream",
          "name": "stdout",
          "text": [
            "Updated Dictionary: {'name': 'Bob', 'city': 'New York'}\n"
          ]
        }
      ]
    },
    {
      "cell_type": "markdown",
      "source": [
        "Qn 25-  Write a code to check if the key \"city\" exists in the dictionary {'name': 'Alice', 'city': 'Paris'}."
      ],
      "metadata": {
        "id": "siEFaAvLpuR2"
      }
    },
    {
      "cell_type": "code",
      "source": [
        "# Answer\n",
        "\n",
        "person = {'name': 'Alice', 'city': 'Paris'}\n",
        "\n",
        "# Checking\n",
        "if 'city' in person:\n",
        "    print(\"Key 'city' exists in the dictionary.\")\n",
        "else:\n",
        "    print(\"Key 'city' does not exist in the dictionary.\")"
      ],
      "metadata": {
        "colab": {
          "base_uri": "https://localhost:8080/"
        },
        "id": "eV14q_DJp2KA",
        "outputId": "2f3bd112-985d-430d-8c15-4e093c85b8b3"
      },
      "execution_count": 15,
      "outputs": [
        {
          "output_type": "stream",
          "name": "stdout",
          "text": [
            "Key 'city' exists in the dictionary.\n"
          ]
        }
      ]
    },
    {
      "cell_type": "markdown",
      "source": [
        "Qn 26-  Write a code to create a list, a tuple, and a dictionary, and print them all.\n"
      ],
      "metadata": {
        "id": "BDSDzw3tqRSW"
      }
    },
    {
      "cell_type": "code",
      "source": [
        "# Answe\n",
        "\n",
        "my_list = [1, 2, 3, 4, 5]\n",
        "\n",
        "my_tuple = ('apple', 'banana', 'cherry')\n",
        "\n",
        "\n",
        "my_dict = {'name': 'Alice', 'age': 25, 'city': 'New York'}\n",
        "\n",
        "print(\"List:\", my_list)\n",
        "print(\"Tuple:\", my_tuple)\n",
        "print(\"Dictionary:\", my_dict)"
      ],
      "metadata": {
        "colab": {
          "base_uri": "https://localhost:8080/"
        },
        "id": "KIJtvjhZqUm0",
        "outputId": "f20900ba-cdf6-4768-aaff-8f92baf9e3c4"
      },
      "execution_count": 18,
      "outputs": [
        {
          "output_type": "stream",
          "name": "stdout",
          "text": [
            "List: [1, 2, 3, 4, 5]\n",
            "Tuple: ('apple', 'banana', 'cherry')\n",
            "Dictionary: {'name': 'Alice', 'age': 25, 'city': 'New York'}\n"
          ]
        }
      ]
    },
    {
      "cell_type": "markdown",
      "source": [
        "Qn 27- Write a code to create a list of 5 random numbers between 1 and 100, sort it in ascending order, and print the\n",
        "result.(replaced)"
      ],
      "metadata": {
        "id": "vEwzYQoMq6ap"
      }
    },
    {
      "cell_type": "code",
      "source": [
        "# Answer\n",
        "\n",
        "import random\n",
        "\n",
        "# Creating a list of 5 random numbers between 1 and 100\n",
        "random_numbers = random.sample(range(1, 101), 5)\n",
        "\n",
        "# Sorting the list in ascending order\n",
        "random_numbers.sort()\n",
        "\n",
        "print(\"Sorted List of Random Numbers:\", random_numbers)"
      ],
      "metadata": {
        "colab": {
          "base_uri": "https://localhost:8080/"
        },
        "id": "-BjFEKcwrPpM",
        "outputId": "24aa023a-7555-4415-8f45-4282b751a924"
      },
      "execution_count": 19,
      "outputs": [
        {
          "output_type": "stream",
          "name": "stdout",
          "text": [
            "Sorted List of Random Numbers: [2, 13, 48, 88, 95]\n"
          ]
        }
      ]
    },
    {
      "cell_type": "markdown",
      "source": [
        "Qn 28-  Write a code to create a list with strings and print the element at the third index.\n"
      ],
      "metadata": {
        "id": "CBVl17surhwt"
      }
    },
    {
      "cell_type": "code",
      "source": [
        "# Answer\n",
        "\n",
        "my_list = [\"apple\", \"banana\", \"cherry\", \"orange\", \"grape\"]\n",
        "\n",
        "print(\"Element at index 3:\", my_list[3])"
      ],
      "metadata": {
        "colab": {
          "base_uri": "https://localhost:8080/"
        },
        "id": "9gS6TArFrloK",
        "outputId": "4fc3af25-c877-4985-e0f1-80e8b379d0e5"
      },
      "execution_count": 21,
      "outputs": [
        {
          "output_type": "stream",
          "name": "stdout",
          "text": [
            "Element at index 3: orange\n"
          ]
        }
      ]
    },
    {
      "cell_type": "markdown",
      "source": [
        "Qn 29-  Write a code to combine two dictionaries into one and print the result.\n"
      ],
      "metadata": {
        "id": "gjbdPEIer4f3"
      }
    },
    {
      "cell_type": "code",
      "source": [
        "# Answer\n",
        "\n",
        "dict1 = {'a': 1, 'b': 2}\n",
        "dict2 = {'c': 3, 'd': 4}\n",
        "\n",
        "combined_dict = {**dict1, **dict2}  # Combining dictionaries\n",
        "\n",
        "print(\"Combined Dictionary:\", combined_dict)\n",
        "#"
      ],
      "metadata": {
        "colab": {
          "base_uri": "https://localhost:8080/"
        },
        "id": "To5ozf1sr9fG",
        "outputId": "41a6d188-446e-491d-80e9-39bf548e4d31"
      },
      "execution_count": 22,
      "outputs": [
        {
          "output_type": "stream",
          "name": "stdout",
          "text": [
            "Combined Dictionary: {'a': 1, 'b': 2, 'c': 3, 'd': 4}\n"
          ]
        }
      ]
    },
    {
      "cell_type": "markdown",
      "source": [
        "Qn 30- . Write a code to convert a list of strings into a set.\n"
      ],
      "metadata": {
        "id": "XWoOfr61sLSI"
      }
    },
    {
      "cell_type": "code",
      "source": [
        "#  Answer\n",
        "\n",
        "my_list = [\"apple\", \"banana\", \"cherry\", \"apple\", \"banana\"]\n",
        "\n",
        "# Converting the list into a set\n",
        "my_set = set(my_list)\n",
        "\n",
        "print(\"Set:\", my_set)"
      ],
      "metadata": {
        "id": "59WdjkzVsQBE"
      },
      "execution_count": null,
      "outputs": []
    }
  ]
}